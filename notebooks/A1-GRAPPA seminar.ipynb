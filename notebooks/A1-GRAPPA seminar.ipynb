{
 "cells": [
  {
   "cell_type": "code",
   "execution_count": 1,
   "metadata": {},
   "outputs": [],
   "source": [
    "import numpy as np\n",
    "import matplotlib.pyplot as plt"
   ]
  },
  {
   "cell_type": "markdown",
   "metadata": {},
   "source": [
    "Constants: (natural units)"
   ]
  },
  {
   "cell_type": "code",
   "execution_count": 2,
   "metadata": {},
   "outputs": [],
   "source": [
    "H0    = 1.5123e-33\n",
    "T0    = 0.24e-3\n",
    "G     = 1\n",
    "GF    = 1.1664e-23\n",
    "kB    = 1\n",
    "Mpl   = 1.2211e28\n",
    "rho_c = (3*(H0**2))/(8*np.pi*G)"
   ]
  },
  {
   "cell_type": "markdown",
   "metadata": {},
   "source": [
    "Freeze out temperatures CDM and HDM for intastaneous freeze-out:"
   ]
  },
  {
   "cell_type": "code",
   "execution_count": 3,
   "metadata": {},
   "outputs": [],
   "source": [
    "def T_fo_HDM(m):\n",
    "    return pow((GF**2)*Mpl, (-1/3))\n",
    "\n",
    "def T_fo_HDM_equipart(m):\n",
    "    return pow(3*kB*(GF**4)*(Mpl**2)/m, (-1/7))\n",
    "\n",
    "def T_fo_CDM(m):\n",
    "    return m / np.log(Mpl*(GF**2)*(m**3)*pow(3*kB,(1/2)))"
   ]
  },
  {
   "cell_type": "code",
   "execution_count": 4,
   "metadata": {},
   "outputs": [],
   "source": [
    "def numdens_fo_HDM(m, T_fo):\n",
    "    return pow(T_fo, 3)\n",
    "\n",
    "def numdens_fo_CDM(m, T_fo):\n",
    "    return pow(m*T_fo, (3/2))*np.exp(-m/T_fo)"
   ]
  },
  {
   "cell_type": "markdown",
   "metadata": {},
   "source": [
    "Relic abundance today:"
   ]
  },
  {
   "cell_type": "code",
   "execution_count": 5,
   "metadata": {},
   "outputs": [],
   "source": [
    "## WHERE DOES THIS COME FROM???\n",
    "\n",
    "def abundance_today(m, sigma, T_fo):\n",
    "    return (m*(T0**3)) / (rho_c*Mpl*sigma*np.sqrt(3*kB/m)*T_fo**(3/2))"
   ]
  },
  {
   "cell_type": "code",
   "execution_count": 6,
   "metadata": {},
   "outputs": [],
   "source": [
    "m_min = 100e8\n",
    "m_max = 100e10\n",
    "n_points = 100\n",
    "m = np.logspace(np.log10(m_min), np.log10(m_max), num=n_points) # mass of the DM particle\n",
    "\n",
    "### Uncomment for HDM\n",
    "\n",
    "# T_fo = T_fo_HDM(m)\n",
    "\n",
    "T_fo = T_fo_HDM_equipart(m)\n",
    "n_fo = numdens_fo_HDM(m, T_fo)\n",
    "\n",
    "\n",
    "### Uncomment for CDM\n",
    "\n",
    "# T_fo = T_fo_CDM(m)\n",
    "# n_fo = numdens_fo_CDM(m, T_fo)\n",
    "\n",
    "cs_fo = pow(T_fo,2)/(Mpl * n_fo) # cross-section at freeze out"
   ]
  },
  {
   "cell_type": "code",
   "execution_count": 7,
   "metadata": {},
   "outputs": [],
   "source": [
    "m_min = 100e8\n",
    "m_max = 100e10\n",
    "n_points = 100\n",
    "m = np.logspace(np.log10(m_min), np.log10(m_max), num=n_points) # mass of the DM particle\n",
    "\n",
    "### Uncomment for HDM\n",
    "\n",
    "# T_fo = T_fo_HDM(m)\n",
    "\n",
    "T_fo_hot = T_fo_HDM_equipart(m)\n",
    "n_fo_hot = numdens_fo_HDM(m, T_fo_hot)\n",
    "\n",
    "\n",
    "### Uncomment for CDM\n",
    "\n",
    "T_fo_cold = T_fo_CDM(m)\n",
    "n_fo_cold = numdens_fo_CDM(m, T_fo_cold)\n",
    "\n",
    "cs_fo_hot = pow(T_fo_hot,2)/(Mpl * n_fo_hot) # cross-section at freeze out\n",
    "cs_fo_cold = pow(T_fo_cold,2)/(Mpl * n_fo_cold)"
   ]
  },
  {
   "cell_type": "code",
   "execution_count": 8,
   "metadata": {},
   "outputs": [],
   "source": [
    "Om_HDM = m*(T0**3)*n_fo_hot/(rho_c*(T_fo_hot**3))\n",
    "Om_CDM = m*(T0**3)*n_fo_cold/(rho_c*(T_fo_cold**3))"
   ]
  },
  {
   "cell_type": "code",
   "execution_count": 9,
   "metadata": {},
   "outputs": [],
   "source": [
    "# m = 100e9\n",
    "# print((GF*m)**2)\n",
    "\n",
    "# print((GF*T_fo_HDM(m))**2)\n"
   ]
  },
  {
   "cell_type": "code",
   "execution_count": 10,
   "metadata": {},
   "outputs": [],
   "source": [
    "# ## I'D SAY YOU CANNOT JUST DEFINE AN ARRAY OF SIGMAs AND USE THAT BECAUSE THE F.O.C. MAY NOT BE SATISFIED THEN!!!\n",
    "\n",
    "# sigma = np.linspace(10**(-26),10**(-22),1000)\n",
    "# T_fo = T_fo_CDM(m)\n",
    "# print(abundance_today(m, (GF*m)**2, T_fo))\n",
    "# plt.plot(sigma, abundance_today(m, sigma, T_fo))"
   ]
  },
  {
   "cell_type": "code",
   "execution_count": 17,
   "metadata": {},
   "outputs": [
    {
     "data": {
      "text/plain": [
       "[<matplotlib.lines.Line2D at 0x7fc038912128>,\n",
       " <matplotlib.lines.Line2D at 0x7fc038912278>]"
      ]
     },
     "execution_count": 17,
     "metadata": {},
     "output_type": "execute_result"
    },
    {
     "data": {
      "image/png": "[encoded data removed]",
      "text/plain": [
       "<Figure size 432x288 with 1 Axes>"
      ]
     },
     "metadata": {
      "needs_background": "light"
     },
     "output_type": "display_data"
    }
   ],
   "source": [
    "plt.plot(cs_fo_hot, Om_HDM, 'g--', cs_fo_cold, Om_CDM, 'ro')"
   ]
  },
  {
   "cell_type": "code",
   "execution_count": null,
   "metadata": {},
   "outputs": [],
   "source": []
  },
  {
   "cell_type": "code",
   "execution_count": null,
   "metadata": {},
   "outputs": [],
   "source": []
  },
  {
   "cell_type": "code",
   "execution_count": null,
   "metadata": {},
   "outputs": [],
   "source": []
  },
  {
   "cell_type": "code",
   "execution_count": null,
   "metadata": {},
   "outputs": [],
   "source": []
  }
 ],
 "metadata": {
  "kernelspec": {
   "display_name": "Python 3",
   "language": "python",
   "name": "python3"
  },
  "language_info": {
   "codemirror_mode": {
    "name": "ipython",
    "version": 3
   },
   "file_extension": ".py",
   "mimetype": "text/x-python",
   "name": "python",
   "nbconvert_exporter": "python",
   "pygments_lexer": "ipython3",
   "version": "3.7.0"
  }
 },
 "nbformat": 4,
 "nbformat_minor": 2
}
