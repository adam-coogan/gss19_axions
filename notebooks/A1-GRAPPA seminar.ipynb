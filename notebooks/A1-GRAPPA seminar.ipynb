{
 "cells": [
  {
   "cell_type": "code",
   "execution_count": 1,
   "metadata": {},
   "outputs": [],
   "source": [
    "import numpy as np\n",
    "import matplotlib.pyplot as plt"
   ]
  },
  {
   "cell_type": "markdown",
   "metadata": {},
   "source": [
    "Constants: (natural units)"
   ]
  },
  {
   "cell_type": "code",
   "execution_count": 2,
   "metadata": {},
   "outputs": [],
   "source": [
    "H0    = 1.5123e-33\n",
    "T0    = 0.24e-3\n",
    "G     = 1\n",
    "GF    = 1.1664e-23\n",
    "kB    = 1\n",
    "Mpl   = 1.2211e28\n",
    "rho_c = (3*(H0**2))/(8*np.pi*G)"
   ]
  },
  {
   "cell_type": "markdown",
   "metadata": {},
   "source": [
    "Freeze out temperatures CDM and HDM for intastaneous freeze-out:"
   ]
  },
  {
   "cell_type": "code",
   "execution_count": 3,
   "metadata": {},
   "outputs": [],
   "source": [
    "def T_fo_HDM(masses, scale):\n",
    "    return pow(((scale*GF)**2)*Mpl, (-1/3))\n",
    "\n",
    "def T_fo_HDM_equipart(masses, scale):\n",
    "    return pow(3*kB*((scale*GF)**4)*(Mpl**2)/masses, (-1/7))\n",
    "\n",
    "def T_fo_CDM(masses, scale):\n",
    "    return masses / np.log(Mpl*((scale*GF)**2)*(masses**3)*pow(3*kB,(1/2)))"
   ]
  },
  {
   "cell_type": "code",
   "execution_count": 4,
   "metadata": {},
   "outputs": [],
   "source": [
    "def numdens_fo_HDM(masses, T_fo):\n",
    "    return pow(T_fo, 3)\n",
    "\n",
    "def numdens_fo_CDM(masses, T_fo):\n",
    "    return pow(masses*T_fo, (3/2))*np.exp(-masses/T_fo)"
   ]
  },
  {
   "cell_type": "markdown",
   "metadata": {},
   "source": [
    "Relic abundance today:"
   ]
  },
  {
   "cell_type": "code",
   "execution_count": 45,
   "metadata": {},
   "outputs": [],
   "source": [
    "m_min = 100e8\n",
    "m_max = 100e10\n",
    "n_points = 100\n",
    "masses = np.logspace(np.log10(m_min), np.log10(m_max), num=n_points) # mass of the DM particle\n",
    "\n",
    "scale_min = 0.8\n",
    "scale_max = 1.2\n",
    "n_curves = 5\n",
    "scales = np.linspace(scale_min, scale_max, num=n_curves) # rescaling of the cross-section\n",
    "\n",
    "\n",
    "T_fo_hot = [T_fo_HDM_equipart(masses, scale) for scale in scales]\n",
    "n_fo_hot = [numdens_fo_HDM(masses, T_fo) for T_fo in T_fo_hot]\n",
    "\n",
    "T_fo_cold = [T_fo_CDM(masses, scale) for scale in scales]\n",
    "n_fo_cold = [numdens_fo_CDM(masses, T_fo) for T_fo in T_fo_cold]\n",
    "\n",
    "CDM_input = list(zip(T_fo_cold, n_fo_cold))\n",
    "HDM_input = list(zip(T_fo_hot, n_fo_hot))\n",
    "\n",
    "\n",
    "### Cross-sections\n",
    "\n",
    "cs_hot = [pow(T_hot,2)/(Mpl * n_hot) for (T_hot, n_hot) in HDM_input]\n",
    "cs_cold = [pow(T_cold,2)/(Mpl * n_cold) for (T_cold, n_cold) in CDM_input]\n",
    "\n",
    "\n",
    "OM_HDM = [(masses*(T0**3)*n_hot/(rho_c*(T_hot**3))) for (T_hot, n_hot) in HDM_input]\n",
    "OM_CDM = [(masses*(T0**3)*n_cold/(rho_c*(T_cold**3))) for (T_cold, n_cold) in CDM_input]"
   ]
  },
  {
   "cell_type": "code",
   "execution_count": 44,
   "metadata": {},
   "outputs": [
    {
     "name": "stdout",
     "output_type": "stream",
     "text": [
      "a, b =  1 4\n",
      "a, b =  2 5\n",
      "a, b =  3 6\n",
      "1 4\n",
      "2 5\n",
      "3 6\n"
     ]
    }
   ],
   "source": [
    "arr1 = [1, 2, 3]\n",
    "arr2 = [4, 5, 6]\n",
    "\n",
    "test = list(zip(arr1, arr2))\n",
    "\n",
    "for a, b in zip(arr1, arr2):\n",
    "    print('a, b = ', a, b)\n",
    "    \n",
    "for (elem1, elem2) in test:\n",
    "    print(elem1, elem2)"
   ]
  },
  {
   "cell_type": "code",
   "execution_count": 32,
   "metadata": {},
   "outputs": [
    {
     "data": {
      "text/plain": [
       "<zip at 0x7f743c7433c8>"
      ]
     },
     "execution_count": 32,
     "metadata": {},
     "output_type": "execute_result"
    }
   ],
   "source": [
    "CDM_input"
   ]
  },
  {
   "cell_type": "code",
   "execution_count": 47,
   "metadata": {},
   "outputs": [
    {
     "data": {
      "image/png": "[encoded data removed]",
      "text/plain": [
       "<Figure size 1008x720 with 2 Axes>"
      ]
     },
     "metadata": {
      "needs_background": "light"
     },
     "output_type": "display_data"
    }
   ],
   "source": [
    "fig, (ax1, ax2) = plt.subplots(2, 1, figsize=(14,10))\n",
    "\n",
    "for OM_cold in OM_CDM:\n",
    "    ax1.plot(masses, OM_cold, lw=2)\n",
    "    \n",
    "for OM_hot in OM_HDM:\n",
    "    ax2.plot(masses, OM_hot, lw=2)\n",
    "\n",
    "for ax in (ax1,ax2):\n",
    "    ax.tick_params(labelsize=16)\n",
    "\n",
    "# ax1.set_xlabel(\"x\", fontsize=20)\n",
    "# ax1.set_ylabel(\"probability density\", fontsize=20)\n",
    "# ax1.tick_params(axis='x', labelsize=20)\n",
    "# ax1.tick_params(axis='y', labelsize=20)\n",
    "# ax2.set_xlabel(\"x\", fontsize=20)\n",
    "# ax2.set_ylabel(\"probability\", fontsize=20)\n",
    "# ax2.tick_params(axis='x', labelsize=20)\n",
    "# ax2.tick_params(axis='y', labelsize=20)\n",
    "plt.show()"
   ]
  },
  {
   "cell_type": "code",
   "execution_count": 2,
   "metadata": {},
   "outputs": [],
   "source": [
    "def g_s(T):\n",
    "    \n",
    "    # Evolution of relativistic\n",
    "    # degrees of freedom (T in eV).\n",
    "    \n",
    "    decoupling_T = np.array([173*10**9, 90*10**9, 4*10**9, 10**9, 10**8, 511*10**3])\n",
    "    \n",
    "    \n",
    "    if T <= decoupling_T[0]:\n",
    "        g_s = 106.75\n",
    "        \n",
    "    elif decoupling_T[0] < T <= decoupling_T[1]:\n",
    "        g_s = 96.25\n",
    "    \n",
    "    elif decoupling_T[1] < T <= decoupling_T[2]:\n",
    "        g_s = 86.25\n",
    "    \n",
    "    elif decoupling_T[2] < T <= decoupling_T[3]:\n",
    "        g_s = 75.75\n",
    "    \n",
    "    elif decoupling_T[3] < T <= decoupling_T[4]:\n",
    "        g_s = 17.25\n",
    "        \n",
    "    elif decoupling_T[4] < T <= decoupling_T[5]:\n",
    "        g_s = 10.75\n",
    "        \n",
    "    elif T > decoupling_T[5]:\n",
    "        g_s = 3.94\n",
    "    \n",
    "    \n",
    "    return g_s"
   ]
  },
  {
   "cell_type": "code",
   "execution_count": 3,
   "metadata": {},
   "outputs": [],
   "source": [
    "def H(T):\n",
    "    \n",
    "    # Hubble constant in terms\n",
    "    # of the temperature.\n",
    "    \n",
    "    density = (g_s*T**4)*(np.pi**2)/(30)\n",
    "    \n",
    "    return np.sqrt(8*np.pi*G*density/3)"
   ]
  },
  {
   "cell_type": "code",
   "execution_count": null,
   "metadata": {},
   "outputs": [],
   "source": []
  }
 ],
 "metadata": {
  "kernelspec": {
   "display_name": "Python 3",
   "language": "python",
   "name": "python3"
  },
  "language_info": {
   "codemirror_mode": {
    "name": "ipython",
    "version": 3
   },
   "file_extension": ".py",
   "mimetype": "text/x-python",
   "name": "python",
   "nbconvert_exporter": "python",
   "pygments_lexer": "ipython3",
   "version": "3.7.3"
  }
 },
 "nbformat": 4,
 "nbformat_minor": 2
}
