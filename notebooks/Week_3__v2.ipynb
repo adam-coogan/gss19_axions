{
 "cells": [
  {
   "cell_type": "markdown",
   "metadata": {},
   "source": [
    "# Week 3 GRAPPA Seminar Assignment"
   ]
  },
  {
   "cell_type": "code",
   "execution_count": 1,
   "metadata": {},
   "outputs": [],
   "source": [
    "import numpy as np\n",
    "import matplotlib.pyplot as plt\n",
    "import scipy"
   ]
  },
  {
   "cell_type": "markdown",
   "metadata": {},
   "source": [
    "### Define the units"
   ]
  },
  {
   "cell_type": "code",
   "execution_count": 2,
   "metadata": {},
   "outputs": [],
   "source": [
    "# length\n",
    "cm = 1\n",
    "m = 1e2 * cm\n",
    "km = 1e3 * m\n",
    "pc = 3.1e18 * cm\n",
    "Mpc = 1e6 * pc\n",
    "kpc = 1e3 * pc\n",
    "\n",
    "# time\n",
    "s = 1\n",
    "\n",
    "# mass/energy\n",
    "GeV = 1\n",
    "eV = 1e-9 * GeV\n",
    "kg = 5.61e26 * GeV\n",
    "M_solar = 2e30 * kg\n",
    "g = 1e-3 * kg\n",
    "\n",
    "\n",
    "# other quantities\n",
    "m_p = 0.938 * GeV\n",
    "v0 = 220 * km/s\n",
    "N_A = 6.022e23\n",
    "rho0 = 0.3 * GeV/cm**3"
   ]
  },
  {
   "cell_type": "code",
   "execution_count": 3,
   "metadata": {},
   "outputs": [],
   "source": [
    "# problem related quantities\n",
    "A = 131.293 * g\n",
    "m_det = 500 *  kg\n",
    "T = 365*24*3600 * s\n",
    "E_thresh = 3e3 * eV\n",
    "\n",
    "factor_R0 = T * m_det * N_A * rho0 * A * v0 / m_p**2"
   ]
  },
  {
   "cell_type": "code",
   "execution_count": 11,
   "metadata": {},
   "outputs": [],
   "source": [
    "def mu(m_x):\n",
    "    m_N = A/N_A * GeV/g\n",
    "    return m_x*m_N / (m_x + m_N)\n",
    "\n",
    "def r(m_x):\n",
    "    m_N = A/N_A * GeV/g\n",
    "    return 4*m_x*m_N / (m_x + m_N)**2\n",
    "\n",
    "def E0(m_x):\n",
    "    return 0.5*m_x*v0**2\n",
    "\n",
    "def sigma_px(m_x):\n",
    "    return m_x * max_events * np.exp(E_thresh / (r(m_x) * E0(m_x))) / (factor_R0 * mu(m_x)**2)"
   ]
  },
  {
   "cell_type": "code",
   "execution_count": 13,
   "metadata": {},
   "outputs": [
    {
     "name": "stdout",
     "output_type": "stream",
     "text": [
      "3.192633703505442e-42\n"
     ]
    }
   ],
   "source": [
    "confidence = 95\n",
    "m_x = 100 * GeV\n",
    "\n",
    "max_events = -np.log(1-confidence/100)\n",
    "\n",
    "\n",
    "print(sigma_px(m_x)) ## in cm^2 ???"
   ]
  },
  {
   "cell_type": "code",
   "execution_count": null,
   "metadata": {},
   "outputs": [],
   "source": []
  }
 ],
 "metadata": {
  "kernelspec": {
   "display_name": "Python 3",
   "language": "python",
   "name": "python3"
  },
  "language_info": {
   "codemirror_mode": {
    "name": "ipython",
    "version": 3
   },
   "file_extension": ".py",
   "mimetype": "text/x-python",
   "name": "python",
   "nbconvert_exporter": "python",
   "pygments_lexer": "ipython3",
   "version": "3.7.0"
  }
 },
 "nbformat": 4,
 "nbformat_minor": 2
}
