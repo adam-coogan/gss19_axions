{
 "cells": [
  {
   "cell_type": "markdown",
   "metadata": {},
   "source": [
    "# Week 3 GRAPPA Seminar Assignment"
   ]
  },
  {
   "cell_type": "code",
   "execution_count": 1,
   "metadata": {},
   "outputs": [],
   "source": [
    "import numpy as np\n",
    "import matplotlib.pyplot as plt\n",
    "import scipy"
   ]
  },
  {
   "cell_type": "markdown",
   "metadata": {},
   "source": [
    "### Define the units"
   ]
  },
  {
   "cell_type": "code",
   "execution_count": 2,
   "metadata": {},
   "outputs": [],
   "source": [
    "# length\n",
    "cm = 1\n",
    "m = 1e2 * cm\n",
    "km = 1e3 * m\n",
    "pc = 3.1e18 * cm\n",
    "Mpc = 1e6 * pc\n",
    "kpc = 1e3 * pc\n",
    "\n",
    "# time\n",
    "s = 1\n",
    "c = 3e5 * km/s\n",
    "\n",
    "# mass/energy\n",
    "GeV = 1\n",
    "eV = 1e-9 * GeV\n",
    "kg = 5.61e26 * GeV\n",
    "M_solar = 2e30 * kg\n",
    "g = 1e-3 * kg\n",
    "\n",
    "# other quantities\n",
    "m_p = 0.938 * GeV\n",
    "v0 = 220 * km / s / c\n",
    "N_A = 6.022e23\n",
    "rho0 = 0.3 * GeV/cm**3"
   ]
  },
  {
   "cell_type": "markdown",
   "metadata": {},
   "source": [
    "## Part 1: WIMP-proton cross section"
   ]
  },
  {
   "cell_type": "markdown",
   "metadata": {},
   "source": [
    "\\begin{align}\n",
    "\\frac{dR}{dE_{r}} = \\frac{R_{0}}{rE_{0}} e^{-E_{r}/rE_{0}}\n",
    "\\end{align}\n",
    "\n",
    "Integrating R from the threshold energy to infinity gives \n",
    "\n",
    "\\begin{align}\n",
    "R = R_{0} e^{-E_{r}/rE_{0}}\n",
    "\\end{align}\n",
    "\n",
    "where $R_{0}$ corrsponds to\n",
    "\n",
    "\\begin{align}\n",
    "R_{0} = \\frac{N_{A}}{A} \\frac{\\rho}{m_{\\chi}} \\sigma_{SI}(\\chi + p) \\frac{\\mu^{2} A^{2}}{m_{p}^{2}} \\langle v \\rangle\n",
    "\\end{align}\n",
    "\n",
    "and $\\langle v \\rangle$ is the average velocity. Rearranging the expression for R to give an expression for $\\sigma_{SI}$ as a function of the WIMP particle mass gives\n",
    "\n",
    "\\begin{align}\n",
    "\\sigma_{SI}(\\chi + p) = \\frac{1}{\\mathrm{factor}} R \\frac{m_{\\chi}}{\\mu^{2}} e^{E_{r}/rE_{0}}\n",
    "\\end{align}\n",
    "\n",
    "where the factor includes all the constants present in R$_{0}$. The value of $\\sigma_{SI}(\\chi + p)$ can be plotted as a function of the WIMP particle mass. These equations were taken from Particle Cosmology: DM Direct Detection notes from Auke-Pieter Colijn. "
   ]
  },
  {
   "cell_type": "markdown",
   "metadata": {},
   "source": [
    "Define the constants necessary for the computations"
   ]
  },
  {
   "cell_type": "code",
   "execution_count": 3,
   "metadata": {},
   "outputs": [],
   "source": [
    "# problem related quantities\n",
    "# A = 131.293 * GeV\n",
    "A = 131.293 * m_p\n",
    "m_det = 500 * kg\n",
    "T = 365*24*3600 * s\n",
    "E_thresh = 3e3 * eV\n",
    "\n",
    "m_N = A \n",
    "\n",
    "# factor_R0 = T * m_det * N_A * rho0 * A * v0 / m_p**2\n",
    "# factor_R0 = T * m_det * rho0 * A * (2*v0/np.sqrt(np.pi)) / m_p**2     \n",
    "factor_R0 = T * m_det * N_A * rho0 * A**2 * (2*v0/np.sqrt(np.pi)) / (A * g * m_p**2)"
   ]
  },
  {
   "cell_type": "markdown",
   "metadata": {},
   "source": [
    "Define functions that return the reduced mass $\\mu$, r, E$_{0}$ and the WIMP proton cross-section $\\sigma_{SI}$."
   ]
  },
  {
   "cell_type": "code",
   "execution_count": 4,
   "metadata": {},
   "outputs": [],
   "source": [
    "def mu(m_x):\n",
    "#     m_N = A/N_A * GeV/g\n",
    "    return m_x*m_N / (m_x + m_N)\n",
    "\n",
    "def r(m_x):\n",
    "#     m_N = A/N_A * GeV/g\n",
    "    return 4*m_x*m_N / (m_x + m_N)**2\n",
    "\n",
    "def E0(m_x):\n",
    "#     return 0.5*m_x*(2*v0/np.sqrt(np.pi))**2\n",
    "    return 0.5*m_x*v0**2\n",
    "\n",
    "def sigma_px(m_x):\n",
    "    return m_x*c * max_events * np.exp(E_thresh / (r(m_x) * E0(m_x))) / (factor_R0 * mu(m_x)**2 * c**2)\n"
   ]
  },
  {
   "cell_type": "markdown",
   "metadata": {},
   "source": [
    "For a WIMP particle with mass of 100 GeV and a confidence level of 95%, calculate the WIMP proton cross-section."
   ]
  },
  {
   "cell_type": "code",
   "execution_count": 5,
   "metadata": {},
   "outputs": [
    {
     "name": "stdout",
     "output_type": "stream",
     "text": [
      "1.112360394423267e-47\n"
     ]
    }
   ],
   "source": [
    "confidence = 95\n",
    "m_x = 100 * GeV \n",
    "\n",
    "max_events = -np.log(1-confidence/100)\n",
    "\n",
    "print(sigma_px(m_x)) "
   ]
  },
  {
   "cell_type": "markdown",
   "metadata": {},
   "source": [
    "## Plot the WIMP proton cross-section as a function of the WIMP particle mass"
   ]
  },
  {
   "cell_type": "code",
   "execution_count": 6,
   "metadata": {},
   "outputs": [
    {
     "data": {
      "image/png": "[encoded data removed]",
      "text/plain": [
       "<Figure size 432x288 with 1 Axes>"
      ]
     },
     "metadata": {
      "needs_background": "light"
     },
     "output_type": "display_data"
    }
   ],
   "source": [
    "m_arr = np.logspace(1, 3, 100)\n",
    "\n",
    "fig, ax = plt.subplots(1, 1, figsize=(6,4))\n",
    "ax.plot(m_arr, sigma_px(m_arr), lw=2)\n",
    "ax.set_xlabel(r'm$_{\\chi}$ [GeV]', fontsize=12)\n",
    "ax.set_ylabel(r'$\\sigma_{SI}$ [cm$^{2}$]', fontsize=12)\n",
    "ax.tick_params(axis='x', labelsize=12)\n",
    "ax.tick_params(axis='y', labelsize=12)\n",
    "ax.set_title(r'95% C.L. Upper Limit', fontsize=14)\n",
    "ax.set_xscale('log')\n",
    "ax.set_yscale('log')\n",
    "plt.show()"
   ]
  },
  {
   "cell_type": "markdown",
   "metadata": {},
   "source": [
    "## Part 2: Plot 68% and 95% reconstruction contours in the WIMP-proton coupling cross-section vs dark matter mass plane"
   ]
  },
  {
   "cell_type": "code",
   "execution_count": 7,
   "metadata": {},
   "outputs": [],
   "source": [
    "# Recoil energy between 3 and 10 keV and 10 keV and 20 keV. \n",
    "# Mass of WIMP between 10 and 1000 GeV\n",
    "\n",
    "m = np.logspace(1, 3, 20)\n",
    "sigma = np.logspace(-47, -43, 20)\n",
    "\n",
    "# make a grid\n",
    "X, Y = np.meshgrid(m, sigma)\n",
    "\n",
    "# The minus sign comes from the integration of dR/dE_r\n",
    "N1 = - factor_R0 * Y * mu(X)**2 * (np.exp(-10e3*eV/(r(X)*E0(X))) - np.exp(-3e3*eV/(r(X)*E0(X)))) / X\n",
    "N2 = - factor_R0 * Y * mu(X)**2 * (np.exp(-20e3*eV/(r(X)*E0(X))) - np.exp(-10e3*eV/(r(X)*E0(X)))) / X"
   ]
  },
  {
   "cell_type": "code",
   "execution_count": 34,
   "metadata": {},
   "outputs": [
    {
     "name": "stdout",
     "output_type": "stream",
     "text": [
      "2.99573227355399 1.139434283188365\n",
      "[[5.76193230e+17 3.91821185e+15 1.69399184e+14 2.61824152e+13\n",
      "  9.56098416e+12 5.84345463e+12 4.77045983e+12 4.59631197e+12\n",
      "  4.88881094e+12 5.52794697e+12 6.49845271e+12 7.83465547e+12\n",
      "  9.60465009e+12 1.19075565e+13 1.48765325e+13 1.86853483e+13\n",
      "  2.35580267e+13 2.97817575e+13 3.77236891e+13 4.78525166e+13]\n",
      " [3.54847570e+17 2.41302376e+15 1.04324185e+14 1.61243935e+13\n",
      "  5.88811499e+12 3.59868108e+12 2.93787916e+12 2.83063051e+12\n",
      "  3.01076547e+12 3.40437625e+12 4.00206047e+12 4.82495856e+12\n",
      "  5.91500657e+12 7.33324735e+12 9.16168591e+12 1.15073383e+13\n",
      "  1.45081686e+13 1.83410421e+13 2.32320665e+13 2.94698867e+13]\n",
      " [2.18532241e+17 1.48605636e+15 6.42478625e+13 9.93017891e+12\n",
      "  3.62618508e+12 2.21624130e+12 1.80928762e+12 1.74323873e+12\n",
      "  1.85417453e+12 2.09657903e+12 2.46466178e+12 2.97144210e+12\n",
      "  3.64274622e+12 4.51616726e+12 5.64220788e+12 7.08677372e+12\n",
      "  8.93482969e+12 1.12952979e+13 1.43074266e+13 1.81489770e+13]\n",
      " [1.34582690e+17 9.15185153e+14 3.95669312e+13 6.11548292e+12\n",
      "  2.23317960e+12 1.36486824e+12 1.11424655e+12 1.07357046e+12\n",
      "  1.14189007e+12 1.29117444e+12 1.51785755e+12 1.82995730e+12\n",
      "  2.24337874e+12 2.78127353e+12 3.47474363e+12 4.36437692e+12\n",
      "  5.50249888e+12 6.95618903e+12 8.81120306e+12 1.11770150e+13]\n",
      " [8.28825087e+16 5.63615139e+14 2.43672238e+13 3.76620922e+12\n",
      "  1.37529966e+12 8.40551666e+11 6.86206742e+11 6.61156444e+11\n",
      "  7.03230955e+11 7.95167470e+11 9.34769857e+11 1.12697593e+12\n",
      "  1.38158078e+12 1.71284233e+12 2.13991465e+12 2.68779372e+12\n",
      "  3.38870409e+12 4.28395657e+12 5.42636364e+12 6.88334471e+12]\n",
      " [5.10430447e+16 3.47101375e+14 1.50065112e+13 2.31941321e+12\n",
      "  8.46975835e+11 5.17652240e+11 4.22599194e+11 4.07172013e+11\n",
      "  4.33083526e+11 4.89702464e+11 5.75676344e+11 6.94046110e+11\n",
      "  8.50844054e+11 1.05485088e+12 1.31786261e+12 1.65527295e+12\n",
      "  2.08692735e+12 2.63826699e+12 3.34181634e+12 4.23909553e+12]\n",
      " [3.14347678e+16 2.13761761e+14 9.24173306e+12 1.42840647e+12\n",
      "  5.21608553e+11 3.18795206e+11 2.60256958e+11 2.50756156e+11\n",
      "  2.66713715e+11 3.01582387e+11 3.54529247e+11 4.27427055e+11\n",
      "  5.23990789e+11 6.49628029e+11 8.11603329e+11 1.01939689e+12\n",
      "  1.28523048e+12 1.62477201e+12 2.05805161e+12 2.61063940e+12]\n",
      " [1.93590455e+16 1.31644798e+14 5.69150477e+12 8.79681572e+11\n",
      "  3.21231694e+11 1.96329457e+11 1.60278782e+11 1.54427730e+11\n",
      "  1.64255164e+11 1.85728973e+11 2.18336202e+11 2.63230187e+11\n",
      "  3.22698790e+11 4.00072260e+11 4.99824458e+11 6.27793749e+11\n",
      "  7.91506890e+11 1.00061293e+12 1.26744741e+12 1.60775760e+12]\n",
      " [1.19222335e+16 8.10732134e+13 3.50510303e+12 5.41750323e+11\n",
      "  1.97829964e+11 1.20909145e+11 9.87074011e+10 9.51040413e+10\n",
      "  1.01156249e+11 1.14380856e+11 1.34461960e+11 1.62109840e+11\n",
      "  1.98733472e+11 2.46383785e+11 3.07815999e+11 3.86625657e+11\n",
      "  4.87448102e+11 6.16225685e+11 7.80555217e+11 9.90134643e+11]\n",
      " [7.34228619e+15 4.99287934e+13 2.15861143e+12 3.33635967e+11\n",
      "  1.21833230e+11 7.44616806e+10 6.07887763e+10 5.85696537e+10\n",
      "  6.22968949e+10 7.04412455e+10 8.28081573e+10 9.98350549e+10\n",
      "  1.22389653e+11 1.51735013e+11 1.89567932e+11 2.38102719e+11\n",
      "  3.00194042e+11 3.79501486e+11 4.80703534e+11 6.09772649e+11]\n",
      " [4.52173382e+15 3.07485581e+13 1.32937699e+12 2.05469113e+11\n",
      "  7.50307764e+10 4.58570928e+10 3.74366592e+10 3.60700164e+10\n",
      "  3.83654313e+10 4.33811150e+10 5.09972555e+10 6.14832399e+10\n",
      "  7.53734491e+10 9.34457366e+10 1.16745072e+11 1.46635134e+11\n",
      "  1.84873964e+11 2.33715311e+11 2.96040412e+11 3.75527395e+11]\n",
      " [2.78470168e+15 1.89364445e+13 8.18694441e+11 1.26537786e+11\n",
      "  4.62075694e+10 2.82410085e+10 2.30552996e+10 2.22136551e+10\n",
      "  2.36272822e+10 2.67161821e+10 3.14065686e+10 3.78643433e+10\n",
      "  4.64186038e+10 5.75483897e+10 7.18972436e+10 9.03049848e+10\n",
      "  1.13854300e+11 1.43933156e+11 1.82315958e+11 2.31267874e+11]\n",
      " [1.71495355e+15 1.16619755e+13 5.04191507e+11 7.79280691e+10\n",
      "  2.84568490e+10 1.73921746e+10 1.41985650e+10 1.36802397e+10\n",
      "  1.45508195e+10 1.64531129e+10 1.93416791e+10 2.33186881e+10\n",
      "  2.85868141e+10 3.54410728e+10 4.42777889e+10 5.56141633e+10\n",
      "  7.01169668e+10 8.86409768e+10 1.12278956e+11 1.42425907e+11]\n",
      " [1.05615108e+15 7.18200674e+12 3.10505437e+11 4.79918619e+10\n",
      "  1.75250995e+10 1.07109396e+10 8.74416083e+09 8.42495116e+09\n",
      "  8.96109612e+09 1.01326201e+10 1.19115384e+10 1.43607723e+10\n",
      "  1.76051383e+10 2.18263213e+10 2.72683970e+10 3.42498830e+10\n",
      "  4.31814086e+10 5.45893870e+10 6.91467945e+10 8.77127398e+10]\n",
      " [6.50428751e+14 4.42302600e+12 1.91224218e+11 2.95557023e+10\n",
      "  1.07928012e+10 6.59631297e+09 5.38507579e+09 5.18849109e+09\n",
      "  5.51867501e+09 6.24015598e+09 7.33569962e+09 8.84405593e+09\n",
      "  1.08420929e+10 1.34417009e+10 1.67931935e+10 2.10927291e+10\n",
      "  2.65931932e+10 3.36187763e+10 4.25839297e+10 5.40177339e+10]\n",
      " [4.00565382e+14 2.72391265e+12 1.17765093e+11 1.82018264e+10\n",
      "  6.64672728e+09 4.06232753e+09 3.31638928e+09 3.19532294e+09\n",
      "  3.39866612e+09 3.84298888e+09 4.51767748e+09 5.44659601e+09\n",
      "  6.67708352e+09 8.27804745e+09 1.03420582e+10 1.29899195e+10\n",
      "  1.63773704e+10 2.07040632e+10 2.62252369e+10 3.32667248e+10]\n",
      " [2.46687474e+14 1.67751673e+12 7.25254216e+10 1.12095622e+10\n",
      "  4.09337510e+09 2.50177713e+09 2.04239239e+09 1.96783391e+09\n",
      "  2.09306244e+09 2.36669782e+09 2.78220358e+09 3.35427640e+09\n",
      "  4.11206993e+09 5.09802070e+09 6.36913802e+09 7.99981867e+09\n",
      "  1.00859743e+10 1.27505603e+10 1.61507652e+10 2.04872529e+10]\n",
      " [1.51922040e+14 1.03309568e+12 4.46646511e+10 6.90338882e+09\n",
      "  2.52089772e+09 1.54071496e+09 1.25780369e+09 1.21188698e+09\n",
      "  1.28900875e+09 1.45752661e+09 1.71341509e+09 2.06572511e+09\n",
      "  2.53241090e+09 3.13960692e+09 3.92242224e+09 4.92667401e+09\n",
      "  6.21142921e+09 7.85240973e+09 9.94641985e+09 1.26170381e+10]\n",
      " [9.35609164e+13 6.36230125e+11 2.75066455e+10 4.25143964e+09\n",
      "  1.55249034e+09 9.48846540e+08 7.74616141e+08 7.46338417e+08\n",
      "  7.93833719e+08 8.97615141e+08 1.05520360e+09 1.27217310e+09\n",
      "  1.55958071e+09 1.93352129e+09 2.41561671e+09 3.03408336e+09\n",
      "  3.82529755e+09 4.83589247e+09 6.12548486e+09 7.77018030e+09]\n",
      " [5.76193230e+13 3.91821185e+11 1.69399184e+10 2.61824149e+09\n",
      "  9.56098386e+08 5.84345433e+08 4.77045953e+08 4.59631167e+08\n",
      "  4.88881064e+08 5.52794667e+08 6.49845241e+08 7.83465517e+08\n",
      "  9.60464979e+08 1.19075562e+09 1.48765322e+09 1.86853480e+09\n",
      "  2.35580264e+09 2.97817572e+09 3.77236888e+09 4.78525163e+09]]\n"
     ]
    }
   ],
   "source": [
    "# Chi_squared calculation\n",
    "N1_observed = 10\n",
    "N2_observed = 5\n",
    "\n",
    "def events(confidence): \n",
    "     return -np.log(1-confidence/100)\n",
    "\n",
    "# confidence levels\n",
    "HL = events(95)\n",
    "LL = events(68)\n",
    "print(HL,LL)\n",
    "    \n",
    "def chi_squared(N1_observed, N2_observed):\n",
    "    N1_diff = (N1 - N1_observed)**2 / N1\n",
    "    N2_diff = (N2 - N2_observed)**2 / N2\n",
    "    return N1_diff + N2_diff\n",
    "\n",
    "print(chi_squared(N1_observed, N2_observed))\n",
    "    "
   ]
  },
  {
   "cell_type": "code",
   "execution_count": 33,
   "metadata": {},
   "outputs": [
    {
     "data": {
      "text/plain": [
       "Text(0.5, 1.0, '$\\\\chi^2$ values')"
      ]
     },
     "execution_count": 33,
     "metadata": {},
     "output_type": "execute_result"
    },
    {
     "data": {
      "image/png": "[encoded data removed]",
      "text/plain": [
       "<Figure size 432x288 with 1 Axes>"
      ]
     },
     "metadata": {
      "needs_background": "light"
     },
     "output_type": "display_data"
    }
   ],
   "source": [
    "# Plot\n",
    "fig, ax = plt.subplots(1, 1, figsize=(6,4))\n",
    "CS = ax.contour(X, Y, chi_squared(N1_observed, N2_observed), levels=[HL,LL])\n",
    "ax.set_xlabel(r'm$_{\\chi}$ [GeV]', fontsize=12)\n",
    "ax.set_ylabel(r'$\\sigma_{SI}$ [cm$^{2}$]', fontsize=12)\n",
    "ax.tick_params(axis='x', labelsize=12)\n",
    "ax.tick_params(axis='y', labelsize=12)\n",
    "ax.set_title(r'$\\chi^2$ values', fontsize=14)"
   ]
  },
  {
   "cell_type": "code",
   "execution_count": 28,
   "metadata": {},
   "outputs": [
    {
     "data": {
      "image/png": "[encoded data removed]",
      "text/plain": [
       "<Figure size 432x288 with 1 Axes>"
      ]
     },
     "metadata": {
      "needs_background": "light"
     },
     "output_type": "display_data"
    }
   ],
   "source": [
    "x = np.arange(1, 10)\n",
    "y = x.reshape(-1, 1)\n",
    "h = x * y\n",
    "\n",
    "cs = plt.contourf(h, levels=[10, 30, 50],\n",
    "    colors=['#808080', '#A0A0A0', '#C0C0C0'], extend='both')\n",
    "cs.cmap.set_over('red')\n",
    "cs.cmap.set_under('blue')\n",
    "cs.changed()"
   ]
  },
  {
   "cell_type": "code",
   "execution_count": null,
   "metadata": {},
   "outputs": [],
   "source": []
  }
 ],
 "metadata": {
  "kernelspec": {
   "display_name": "Python 3",
   "language": "python",
   "name": "python3"
  },
  "language_info": {
   "codemirror_mode": {
    "name": "ipython",
    "version": 3
   },
   "file_extension": ".py",
   "mimetype": "text/x-python",
   "name": "python",
   "nbconvert_exporter": "python",
   "pygments_lexer": "ipython3",
   "version": "3.7.3"
  }
 },
 "nbformat": 4,
 "nbformat_minor": 2
}
