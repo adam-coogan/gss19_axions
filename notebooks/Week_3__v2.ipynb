{
 "cells": [
  {
   "cell_type": "markdown",
   "metadata": {},
   "source": [
    "# Week 3 GRAPPA Seminar Assignment"
   ]
  },
  {
   "cell_type": "code",
   "execution_count": 2,
   "metadata": {},
   "outputs": [],
   "source": [
    "import numpy as np\n",
    "import matplotlib.pyplot as plt\n",
    "import scipy"
   ]
  },
  {
   "cell_type": "markdown",
   "metadata": {},
   "source": [
    "\\begin{align}\n",
    "\\frac{dR}{dE_{r}} = \\frac{R_{0}}{rE_{0}} e^{-E_{r}/rE_{0}}\n",
    "\\end{align}\n",
    "\n",
    "Integrating this from the threshold energy to infinity gives \n",
    "\n",
    "\\begin{align}\n",
    "R = R_{0} e^{-E_{r}/rE_{0}}\n",
    "\\end{align}\n",
    "\n",
    "where\n",
    "\n",
    "\\begin{align}\n",
    "R_{0} = \\frac{N_{A}}{A} \\frac{\\rho}{m_{\\chi}} \\sigma_{SI}(\\chi + p) \\frac{\\mu^{2} A^{2}}{m_{p}^{2}} \\langle v \\rangle\n",
    "\\end{align}\n",
    "\n",
    "Rearranging the expression for R to give an expression for $\\sigma_{SI}$ as a function of the WIMP particle mass gives\n",
    "\n",
    "\\begin{align}\n",
    "\\sigma_{SI}(\\chi + p) = \\frac{1}{\\mathrm{factor}} R \\frac{m_{\\chi}}{\\mu^{2}} e^{E_{r}/rE_{0}}\n",
    "\\end{align}\n",
    "\n",
    "where the factor includes all the constants present in R$_{0}$."
   ]
  },
  {
   "cell_type": "markdown",
   "metadata": {},
   "source": [
    "### Define the units"
   ]
  },
  {
   "cell_type": "code",
   "execution_count": 22,
   "metadata": {},
   "outputs": [],
   "source": [
    "# length\n",
    "cm = 1\n",
    "m = 1e2 * cm\n",
    "km = 1e3 * m\n",
    "pc = 3.1e18 * cm\n",
    "Mpc = 1e6 * pc\n",
    "kpc = 1e3 * pc\n",
    "\n",
    "# time\n",
    "s = 1\n",
    "c = 3e5 * km/s\n",
    "\n",
    "# mass/energy\n",
    "GeV = 1\n",
    "eV = 1e-9 * GeV\n",
    "kg = 5.61e26 * GeV\n",
    "# u = 1.66e-27 * kg\n",
    "M_solar = 2e30 * kg\n",
    "g = 1e-3 * kg\n",
    "\n",
    "# other quantities\n",
    "m_p = 0.938 * GeV\n",
    "v0 = 220 * km / s / c\n",
    "N_A = 6.022e23\n",
    "rho0 = 0.3 * GeV/cm**3"
   ]
  },
  {
   "cell_type": "markdown",
   "metadata": {},
   "source": [
    "Define the constants necessary for the computations"
   ]
  },
  {
   "cell_type": "code",
   "execution_count": 27,
   "metadata": {},
   "outputs": [],
   "source": [
    "# problem related quantities\n",
    "# A = 131.293 * GeV\n",
    "A = 131.293 * m_p\n",
    "m_det = 500 * kg\n",
    "T = 365*24*3600 * s\n",
    "E_thresh = 3e3 * eV\n",
    "\n",
    "m_N = A\n",
    "\n",
    "# factor_R0 = T * m_det * N_A * rho0 * A * v0 / m_p**2\n",
    "# factor_R0 = T * m_det * rho0 * A * (2*v0/np.sqrt(np.pi)) / m_p**2     \n",
    "factor_R0 = T * m_det * N_A * rho0 * A**2 * (2*v0/np.sqrt(np.pi)) / (A * g * m_p**2) "
   ]
  },
  {
   "cell_type": "markdown",
   "metadata": {},
   "source": [
    "Define functions that return the reduced mass $\\mu$, r, E$_{0}$ and the WIMP proton cross-section $\\sigma_{SI}$."
   ]
  },
  {
   "cell_type": "code",
   "execution_count": 28,
   "metadata": {},
   "outputs": [],
   "source": [
    "def mu(m_x):\n",
    "#     m_N = A/N_A * GeV/g\n",
    "    return m_x*m_N / (m_x + m_N)\n",
    "\n",
    "def r(m_x):\n",
    "#     m_N = A/N_A * GeV/g\n",
    "    return 4*m_x*m_N / (m_x + m_N)**2\n",
    "\n",
    "def E0(m_x):\n",
    "    return 0.5*m_x*(2*v0/np.sqrt(np.pi))**2\n",
    "\n",
    "def sigma_px(m_x):\n",
    "    return m_x*c * max_events * np.exp(E_thresh / (r(m_x) * E0(m_x))) / (factor_R0 * mu(m_x)**2 * c**2)\n"
   ]
  },
  {
   "cell_type": "markdown",
   "metadata": {},
   "source": [
    "For a WIMP particle with mass of 100 GeV and a confidence level of 95%, calculate the WIMP proton cross-section."
   ]
  },
  {
   "cell_type": "code",
   "execution_count": 29,
   "metadata": {},
   "outputs": [
    {
     "name": "stdout",
     "output_type": "stream",
     "text": [
      "1.0857603360346626e-47\n"
     ]
    }
   ],
   "source": [
    "confidence = 95\n",
    "m_x = 100 * GeV \n",
    "\n",
    "max_events = -np.log(1-confidence/100)\n",
    "\n",
    "print(sigma_px(m_x)) "
   ]
  },
  {
   "cell_type": "markdown",
   "metadata": {},
   "source": [
    "## Plot the WIMP proton cross-section as a function of the WIMP particle mass"
   ]
  },
  {
   "cell_type": "code",
   "execution_count": 30,
   "metadata": {},
   "outputs": [
    {
     "data": {
      "image/png": "[encoded data removed]",
      "text/plain": [
       "<matplotlib.figure.Figure at 0x11a018048>"
      ]
     },
     "metadata": {},
     "output_type": "display_data"
    }
   ],
   "source": [
    "m_arr = np.logspace(1, 3, 100)\n",
    "\n",
    "fig, ax = plt.subplots(1, 1, figsize=(6,4))\n",
    "ax.plot(m_arr, sigma_px(m_arr), lw=2)\n",
    "ax.set_xlabel(r'm$_{\\chi}$ [GeV]', fontsize=16)\n",
    "ax.set_ylabel(r'$\\sigma_{SI}$ [cm$^{2}$]', fontsize=16)\n",
    "ax.tick_params(axis='x', labelsize=14)\n",
    "ax.tick_params(axis='y', labelsize=14)\n",
    "ax.set_title(r'95% C.L. Upper Limit', fontsize=18)\n",
    "ax.set_xscale('log')\n",
    "ax.set_yscale('log')\n",
    "plt.show()"
   ]
  },
  {
   "cell_type": "markdown",
   "metadata": {},
   "source": [
    "## Part 2"
   ]
  },
  {
   "cell_type": "code",
   "execution_count": 8,
   "metadata": {},
   "outputs": [
    {
     "data": {
      "image/png": "[encoded data removed]",
      "text/plain": [
       "<matplotlib.figure.Figure at 0x11a0aec88>"
      ]
     },
     "metadata": {},
     "output_type": "display_data"
    }
   ],
   "source": [
    "# Recoil energy between 3 and 10 keV\n",
    "# Mass of WIMP between 10 and 1000 GeV\n",
    "m = np.logspace(1, 3, 20)\n",
    "# sigma_px = np.logspace(-47, -43, 20) \n",
    "E_r_arr = np.logspace(-3, 1, 20)\n",
    "# print(m, E_thresh)\n",
    "\n",
    "R = factor_R0 * sigma_px(m) * mu(m)**2 * np.exp(-E_r_arr / r(m)*E0(m)) / m\n",
    "\n",
    "plt.figure()\n",
    "plt.loglog(m, R)\n",
    "plt.show()\n",
    "                                             \n",
    "# print(R)"
   ]
  },
  {
   "cell_type": "code",
   "execution_count": 9,
   "metadata": {},
   "outputs": [],
   "source": [
    "# events = 10\n",
    "# expected = 12 \n",
    "    \n",
    "# def chi_square(n_events, n_expected):\n",
    "#     difference = n_events - n_expected\n",
    "#     return (n_events - n_expected)**2 / difference**2\n",
    "\n",
    "# print(chi_square(events, expected))\n",
    "    "
   ]
  },
  {
   "cell_type": "code",
   "execution_count": null,
   "metadata": {},
   "outputs": [],
   "source": []
  }
 ],
 "metadata": {
  "kernelspec": {
   "display_name": "Python 3",
   "language": "python",
   "name": "python3"
  },
  "language_info": {
   "codemirror_mode": {
    "name": "ipython",
    "version": 3
   },
   "file_extension": ".py",
   "mimetype": "text/x-python",
   "name": "python",
   "nbconvert_exporter": "python",
   "pygments_lexer": "ipython3",
   "version": "3.6.4"
  }
 },
 "nbformat": 4,
 "nbformat_minor": 2
}
