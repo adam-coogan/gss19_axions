{
 "cells": [
  {
   "cell_type": "markdown",
   "metadata": {},
   "source": [
    "# Week 3 GRAPPA Seminar Assignment"
   ]
  },
  {
   "cell_type": "code",
   "execution_count": 1,
   "metadata": {},
   "outputs": [],
   "source": [
    "import numpy as np\n",
    "import matplotlib.pyplot as plt\n",
    "import scipy"
   ]
  },
  {
   "cell_type": "markdown",
   "metadata": {},
   "source": [
    "### Define the units"
   ]
  },
  {
   "cell_type": "code",
   "execution_count": 2,
   "metadata": {},
   "outputs": [],
   "source": [
    "# length\n",
    "cm = 1\n",
    "m = 1e2 * cm\n",
    "km = 1e3 * m\n",
    "pc = 3.1e18 * cm\n",
    "Mpc = 1e6 * pc\n",
    "kpc = 1e3 * pc\n",
    "\n",
    "# time\n",
    "s = 1\n",
    "c = 3e5 * km/s\n",
    "\n",
    "# mass/energy\n",
    "GeV = 1\n",
    "eV = 1e-9 * GeV\n",
    "kg = 5.61e26 * GeV\n",
    "M_solar = 2e30 * kg\n",
    "g = 1e-3 * kg\n",
    "\n",
    "# other quantities\n",
    "m_p = 0.938 * GeV\n",
    "v0 = 220 * km / s / c\n",
    "N_A = 6.022e23\n",
    "rho0 = 0.3 * GeV/cm**3"
   ]
  },
  {
   "cell_type": "markdown",
   "metadata": {},
   "source": [
    "## Part 1: WIMP-proton cross section"
   ]
  },
  {
   "cell_type": "markdown",
   "metadata": {},
   "source": [
    "\\begin{align}\n",
    "\\frac{dR}{dE_{r}} = \\frac{R_{0}}{rE_{0}} e^{-E_{r}/rE_{0}}\n",
    "\\end{align}\n",
    "\n",
    "Integrating R from the threshold energy to infinity gives \n",
    "\n",
    "\\begin{align}\n",
    "R = R_{0} e^{-E_{r}/rE_{0}}\n",
    "\\end{align}\n",
    "\n",
    "where $R_{0}$ corrsponds to\n",
    "\n",
    "\\begin{align}\n",
    "R_{0} = \\frac{N_{A}}{A} \\frac{\\rho}{m_{\\chi}} \\sigma_{SI}(\\chi + p) \\frac{\\mu^{2} A^{2}}{m_{p}^{2}} \\langle v \\rangle\n",
    "\\end{align}\n",
    "\n",
    "and $\\langle v \\rangle$ is the average velocity. Rearranging the expression for R to give an expression for $\\sigma_{SI}$ as a function of the WIMP particle mass gives\n",
    "\n",
    "\\begin{align}\n",
    "\\sigma_{SI}(\\chi + p) = \\frac{1}{\\mathrm{factor}} R \\frac{m_{\\chi}}{\\mu^{2}} e^{E_{r}/rE_{0}}\n",
    "\\end{align}\n",
    "\n",
    "where the factor includes all the constants present in R$_{0}$. The value of $\\sigma_{SI}(\\chi + p)$ can be plotted as a function of the WIMP particle mass. These equations were taken from Particle Cosmology: DM Direct Detection notes from Auke-Pieter Colijn. "
   ]
  },
  {
   "cell_type": "markdown",
   "metadata": {},
   "source": [
    "Define the constants necessary for the computations"
   ]
  },
  {
   "cell_type": "code",
   "execution_count": 3,
   "metadata": {},
   "outputs": [],
   "source": [
    "# problem related quantities\n",
    "# A = 131.293 * GeV\n",
    "A = 131.293 * m_p\n",
    "m_det = 500 * kg\n",
    "T = 365*24*3600 * s\n",
    "E_thresh = 3e3 * eV\n",
    "\n",
    "m_N = A \n",
    "\n",
    "# factor_R0 = T * m_det * N_A * rho0 * A * v0 / m_p**2\n",
    "# factor_R0 = T * m_det * rho0 * A * (2*v0/np.sqrt(np.pi)) / m_p**2     \n",
    "factor_R0 = T * m_det * N_A * rho0 * A**2 * (2*v0/np.sqrt(np.pi)) / (A * g * m_p**2)"
   ]
  },
  {
   "cell_type": "markdown",
   "metadata": {},
   "source": [
    "Define functions that return the reduced mass $\\mu$, r, E$_{0}$ and the WIMP proton cross-section $\\sigma_{SI}$."
   ]
  },
  {
   "cell_type": "code",
   "execution_count": 4,
   "metadata": {},
   "outputs": [],
   "source": [
    "def mu(m_x):\n",
    "#     m_N = A/N_A * GeV/g\n",
    "    return m_x*m_N / (m_x + m_N)\n",
    "\n",
    "def r(m_x):\n",
    "#     m_N = A/N_A * GeV/g\n",
    "    return 4*m_x*m_N / (m_x + m_N)**2\n",
    "\n",
    "def E0(m_x):\n",
    "#     return 0.5*m_x*(2*v0/np.sqrt(np.pi))**2\n",
    "    return 0.5*m_x*v0**2\n",
    "\n",
    "def sigma_px(m_x):\n",
    "    return m_x*c * max_events * np.exp(E_thresh / (r(m_x) * E0(m_x))) / (factor_R0 * mu(m_x)**2 * c**2)\n"
   ]
  },
  {
   "cell_type": "markdown",
   "metadata": {},
   "source": [
    "For a WIMP particle with mass of 100 GeV and a confidence level of 95%, calculate the WIMP proton cross-section."
   ]
  },
  {
   "cell_type": "code",
   "execution_count": 5,
   "metadata": {},
   "outputs": [
    {
     "name": "stdout",
     "output_type": "stream",
     "text": [
      "1.112360394423267e-47\n"
     ]
    }
   ],
   "source": [
    "confidence = 95\n",
    "m_x = 100 * GeV \n",
    "\n",
    "max_events = -np.log(1-confidence/100)\n",
    "\n",
    "print(sigma_px(m_x)) "
   ]
  },
  {
   "cell_type": "markdown",
   "metadata": {},
   "source": [
    "## Plot the WIMP proton cross-section as a function of the WIMP particle mass"
   ]
  },
  {
   "cell_type": "code",
   "execution_count": 6,
   "metadata": {},
   "outputs": [
    {
     "data": {
      "image/png": "[encoded data removed]",
      "text/plain": [
       "<Figure size 432x288 with 1 Axes>"
      ]
     },
     "metadata": {
      "needs_background": "light"
     },
     "output_type": "display_data"
    }
   ],
   "source": [
    "m_arr = np.logspace(1, 3, 100)\n",
    "\n",
    "fig, ax = plt.subplots(1, 1, figsize=(6,4))\n",
    "ax.plot(m_arr, sigma_px(m_arr), lw=2)\n",
    "ax.set_xlabel(r'm$_{\\chi}$ [GeV]', fontsize=12)\n",
    "ax.set_ylabel(r'$\\sigma_{SI}$ [cm$^{2}$]', fontsize=12)\n",
    "ax.tick_params(axis='x', labelsize=12)\n",
    "ax.tick_params(axis='y', labelsize=12)\n",
    "ax.set_title(r'95% C.L. Upper Limit', fontsize=14)\n",
    "ax.set_xscale('log')\n",
    "ax.set_yscale('log')\n",
    "plt.show()"
   ]
  },
  {
   "cell_type": "markdown",
   "metadata": {},
   "source": [
    "## Part 2: Plot 68% and 95% reconstruction contours in the WIMP-proton coupling cross-section vs dark matter mass plane"
   ]
  },
  {
   "cell_type": "code",
   "execution_count": 28,
   "metadata": {},
   "outputs": [],
   "source": [
    "# Recoil energy between 3 and 10 keV and 10 keV and 20 keV. \n",
    "# Mass of WIMP between 10 and 1000 GeV\n",
    "\n",
    "m_array = np.logspace(1, 3, 20)\n",
    "sigma_array = np.logspace(-47, -43, 20)\n",
    "\n",
    "# make a grid\n",
    "m, sigma = np.meshgrid(m_array, sigma_array)\n",
    "\n",
    "# The minus sign comes from the integration of dR/dE_r\n",
    "N1_model = - factor_R0 * sigma * mu(m)**2 * (np.exp(-10e3*eV/(r(m)*E0(m))) - np.exp(-3e3*eV/(r(m)*E0(m)))) / m\n",
    "N2_model = - factor_R0 * sigma * mu(m)**2 * (np.exp(-20e3*eV/(r(m)*E0(m))) - np.exp(-10e3*eV/(r(m)*E0(m)))) / m"
   ]
  },
  {
   "cell_type": "code",
   "execution_count": 27,
   "metadata": {},
   "outputs": [],
   "source": [
    "# Chi_squared calculation\n",
    "N1_observed = 10\n",
    "N2_observed = 5\n",
    "\n",
    "def events(confidence): \n",
    "     return -np.log(1-confidence/100)\n",
    "\n",
    "# confidence levels\n",
    "HL = events(95)\n",
    "LL = events(68)\n",
    "    \n",
    "def chi_squared(N1_observed, N2_observed):\n",
    "    N1_diff = (N1_model - N1_observed)**2 / N1_model\n",
    "    N2_diff = (N2_model - N2_observed)**2 / N2_model\n",
    "    return N1_diff + N2_diff"
   ]
  },
  {
   "cell_type": "code",
   "execution_count": 12,
   "metadata": {},
   "outputs": [
    {
     "name": "stderr",
     "output_type": "stream",
     "text": [
      "/anaconda3/lib/python3.7/site-packages/matplotlib/contour.py:1243: UserWarning: No contour levels were found within the data range.\n",
      "  warnings.warn(\"No contour levels were found\"\n"
     ]
    },
    {
     "data": {
      "text/plain": [
       "Text(0.5, 1.0, '$\\\\chi^2$ values')"
      ]
     },
     "execution_count": 12,
     "metadata": {},
     "output_type": "execute_result"
    },
    {
     "data": {
      "image/png": "[encoded data removed]",
      "text/plain": [
       "<Figure size 432x288 with 1 Axes>"
      ]
     },
     "metadata": {
      "needs_background": "light"
     },
     "output_type": "display_data"
    }
   ],
   "source": [
    "# Plot\n",
    "fig, ax = plt.subplots(1, 1, figsize=(6,4))\n",
    "CS = ax.contour(m, sigma, chi_squared(N1_observed, N2_observed), levels=[HL,LL])\n",
    "ax.set_xlabel(r'm$_{\\chi}$ [GeV]', fontsize=12)\n",
    "ax.set_ylabel(r'$\\sigma_{SI}$ [cm$^{2}$]', fontsize=12)\n",
    "ax.tick_params(axis='x', labelsize=12)\n",
    "ax.tick_params(axis='y', labelsize=12)\n",
    "ax.set_title(r'$\\chi^2$ values', fontsize=14)"
   ]
  },
  {
   "cell_type": "markdown",
   "metadata": {},
   "source": [
    "The obtained values for chi squared are not correct, but have not been able to detect the from where is the error coming. We think that is possibly coming from the computation of the constant factor of R0."
   ]
  },
  {
   "cell_type": "code",
   "execution_count": null,
   "metadata": {},
   "outputs": [],
   "source": []
  }
 ],
 "metadata": {
  "kernelspec": {
   "display_name": "Python 3",
   "language": "python",
   "name": "python3"
  },
  "language_info": {
   "codemirror_mode": {
    "name": "ipython",
    "version": 3
   },
   "file_extension": ".py",
   "mimetype": "text/x-python",
   "name": "python",
   "nbconvert_exporter": "python",
   "pygments_lexer": "ipython3",
   "version": "3.7.3"
  }
 },
 "nbformat": 4,
 "nbformat_minor": 2
}
