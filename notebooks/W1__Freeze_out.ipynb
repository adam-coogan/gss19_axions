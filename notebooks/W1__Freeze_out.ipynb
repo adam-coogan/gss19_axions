{
 "cells": [
  {
   "cell_type": "code",
   "execution_count": 1,
   "metadata": {},
   "outputs": [],
   "source": [
    "import numpy as np\n",
    "import matplotlib.pyplot as plt"
   ]
  },
  {
   "cell_type": "code",
   "execution_count": null,
   "metadata": {},
   "outputs": [],
   "source": [
    "GF = \n",
    "kB = \n",
    "MP =\n",
    "m = \n",
    "\n",
    "def T_fo_HDM(kB, GF, MP, m):\n",
    "    temp = pow((GF**2)*MP, (-1/3))\n",
    "    return temp\n",
    "\n",
    "def T_fo_HDM_equipart(kB, GF, MP, m):\n",
    "    temp = pow(3*kB*(GF**4)*(MP**2)/m, (-1/7))\n",
    "    return temp"
   ]
  }
 ],
 "metadata": {
  "kernelspec": {
   "display_name": "Python 3",
   "language": "python",
   "name": "python3"
  },
  "language_info": {
   "codemirror_mode": {
    "name": "ipython",
    "version": 3
   },
   "file_extension": ".py",
   "mimetype": "text/x-python",
   "name": "python",
   "nbconvert_exporter": "python",
   "pygments_lexer": "ipython3",
   "version": "3.7.0"
  }
 },
 "nbformat": 4,
 "nbformat_minor": 2
}
