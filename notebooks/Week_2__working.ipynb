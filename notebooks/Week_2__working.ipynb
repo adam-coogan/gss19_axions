{
 "cells": [
  {
   "cell_type": "markdown",
   "metadata": {},
   "source": [
    "# Week 2 GRAPPA Seminar Assignment"
   ]
  },
  {
   "cell_type": "code",
   "execution_count": 1,
   "metadata": {},
   "outputs": [],
   "source": [
    "import numpy as np\n",
    "import scipy.integrate\n",
    "import matplotlib.pyplot as plt"
   ]
  },
  {
   "cell_type": "markdown",
   "metadata": {},
   "source": [
    "Create a cell that converts all the units into natural units."
   ]
  },
  {
   "cell_type": "code",
   "execution_count": 2,
   "metadata": {},
   "outputs": [],
   "source": [
    "# length\n",
    "cm = 1\n",
    "m = 1e2 * cm\n",
    "km = 1e3 * m\n",
    "pc = 3.1e18 * cm\n",
    "Mpc = 1e6 * pc\n",
    "kpc = 1e3 * pc\n",
    "\n",
    "# time\n",
    "s = 1\n",
    "\n",
    "# mass/energy\n",
    "GeV = 1\n",
    "eV = 1e-9 * GeV\n",
    "kg = 5.61e26 * GeV\n",
    "M_solar = 2e30 * kg"
   ]
  },
  {
   "cell_type": "markdown",
   "metadata": {},
   "source": [
    "## 1. What are the estimates of $r_{s}$ and $\\rho_{s}$ for the Milky-Way Halo?"
   ]
  },
  {
   "cell_type": "markdown",
   "metadata": {},
   "source": [
    "To estimate the value of $r_{s}$, and assuming the spherical collapse model, we have \n",
    "\n",
    "\\begin{align}\n",
    "r_{s} = \\frac{r_{vir}}{c_{vir}}\n",
    "\\end{align}\n",
    "\n",
    "where $c_{vir} = 10$ for the Mily Way Halo and \n",
    "\n",
    "\\begin{align}\n",
    "r_{vir} = \\left ( \\frac{3M}{4 \\pi \\Delta_{vir}(z) \\rho_{c}(z)} \\right ) ^{1/3}.\n",
    "\\end{align}\n",
    "\n",
    "In order to vind the expression for $r_{vir}$, we need to fill in the equations for $\\Delta_{vir}(z)$ and $\\rho_{c}(z)$. \n",
    "\n",
    "\\begin{align}\n",
    "\\Delta_{vir} = 18 \\pi^{2} + 82[\\Omega_{m}(z) - 1] - 39[\\Omega_{m}(z) - 1]^{2}\n",
    "\\end{align}\n",
    "\n",
    "The first step is to therefore define $\\Omega_{m}(z)$ which is \n",
    "\\begin{align}\n",
    "\\frac{\\Omega_{m,0}(1+z)^{3}}{\\Omega_{m,0} (1+z)^{3} + \\Omega_{\\Lambda}}.\n",
    "\\end{align}\n",
    "\n",
    "Once $\\Omega_{m}(z)$ has been defined, we can move to defining the Hubble constant: \n",
    "\n",
    "\\begin{align}\n",
    "H(z) = \\sqrt{H_{0}^{2} \\left (\\Omega_{m}(z) + \\Omega_{\\Lambda} \\right )}\n",
    "\\end{align}\n",
    "\n",
    "in order to calculate the critical density \n",
    "\\begin{align}\n",
    "\\rho_{c} = \\frac{2.77 \\times 10^{11} h^{2} M_{\\odot}}{\\mathrm{Mpc}^{3}}.\n",
    "\\end{align}\n",
    "\n",
    "With these values we can calculate the values for $r_{s}$ and $\\rho_{s}$ using\n",
    "\n",
    "\\begin{align}\n",
    "\\rho_{s} = \\frac{M}{4 \\pi r_{s}^{3} \\left ( \\mathrm{ln}(1 + c_{vir}) - \\frac{c_{vir}}{(1 + c_{vir})} \\right )}.\n",
    "\\end{align}\n",
    "\n",
    "These definitions have been taken from the lecture slides and from the Cosmology Lecture notes from Daniel Baumann. "
   ]
  },
  {
   "cell_type": "markdown",
   "metadata": {},
   "source": [
    "The Milky-Way halo has a mass of around 10$^{12}$ solar masses.\n",
    "Define all the constants in a cell and convert them to the correct units."
   ]
  },
  {
   "cell_type": "code",
   "execution_count": 3,
   "metadata": {},
   "outputs": [],
   "source": [
    "M = 1e12*M_solar\n",
    "a_0 = 1\n",
    "h = 0.7\n",
    "H_0 = h * 100 * km * s**(-1) * Mpc**(-1)\n",
    "Omega_m0 = 0.32\n",
    "Omega_Lambda = 0.68\n",
    "c_vir = 10"
   ]
  },
  {
   "cell_type": "markdown",
   "metadata": {},
   "source": [
    "Define the functions to calculate $\\Omega_{\\mathrm{m}}$, the Hubble constant $H$, $\\Delta_{\\mathrm{vir}}$, $\\rho_{\\mathrm{critical}}$, and $r_{\\mathrm{vir}}$ in order to obtain values for $r_{s}$ and $\\rho_{s}$ as explained above."
   ]
  },
  {
   "cell_type": "code",
   "execution_count": 4,
   "metadata": {},
   "outputs": [],
   "source": [
    "def Omega_m(z):\n",
    "    return Omega_m0*(1+z)**3 / (Omega_m0*(1+z)**3 + Omega_Lambda)\n",
    "\n",
    "def H(z):\n",
    "    return np.sqrt(H_0**2 * (Omega_m(z) + Omega_Lambda))\n",
    "\n",
    "def delta_vir(z):\n",
    "    return 18*np.pi**2 + 82*(Omega_m(z) - 1) - 39*(Omega_m(z) - 1)**2\n",
    "\n",
    "def rho_c(z):\n",
    "    return 2.775e11*h**2*M_solar/Mpc**3\n",
    "\n",
    "def r_vir(z):\n",
    "    return (3*M)**(1/3) / (4*np.pi*delta_vir(z)*rho_c(z))**(1/3)\n",
    "\n",
    "def r_s(z):\n",
    "    return r_vir(z) / c_vir\n",
    "\n",
    "def rho_s(z):\n",
    "    denominator = np.log(1 + c_vir) - (c_vir/(1 + c_vir))\n",
    "    return M / (denominator*4*np.pi*r_s(z)**3)"
   ]
  },
  {
   "cell_type": "markdown",
   "metadata": {},
   "source": [
    "The values for $r_{s}$ in kpc and $\\rho_{s}$ in GeV cm$^{-3}$ are"
   ]
  },
  {
   "cell_type": "code",
   "execution_count": 5,
   "metadata": {},
   "outputs": [
    {
     "name": "stdout",
     "output_type": "stream",
     "text": [
      "r_s   = 25.665 kpc\n",
      "rho_s = 0.119 GeV cm^-3\n"
     ]
    }
   ],
   "source": [
    "print('r_s   = {0:.3f} kpc'.format(r_s(0)/kpc))\n",
    "print('rho_s = {0:.3f} GeV cm^-3'.format(rho_s(0)))"
   ]
  },
  {
   "cell_type": "markdown",
   "metadata": {},
   "source": [
    "## 2. How does $dJ/d\\Omega$ look like as a function of angle subtending from the Galactic center $\\psi$?"
   ]
  },
  {
   "cell_type": "markdown",
   "metadata": {},
   "source": [
    "Starting with the definition of $dJ/d\\Omega$, we have\n",
    "\n",
    "\\begin{align}\n",
    "\\frac{dJ}{d\\Omega} = \\int dl \\rho^{2}(r(l, \\Omega)).\n",
    "\\end{align}\n",
    "\n",
    "In order to find what $dJ/d\\Omega$ looks like as a function of the angle subtending from the Galactic center, we use the cosine rule to get \n",
    "\n",
    "\\begin{align}\n",
    "r^{2} = d_{GC}^{2} + l^{2} - 2ld_{GC}cos(\\psi)cos(\\theta).\n",
    "\\end{align}\n",
    "\n",
    "and fill this into the equation for $\\rho$ as given below.\n",
    "\n",
    "\\begin{align}\n",
    "\\rho = \\frac{\\rho_{s}}{\\frac{r}{r_{s}} \\left ( \\frac{r}{r_{s}} + 1 \\right )^{2}}\n",
    "\\end{align}"
   ]
  },
  {
   "cell_type": "markdown",
   "metadata": {},
   "source": [
    "Define the distance to the galactic center and a maximum length for the line of sight. We are evaluating J at a redshift of 0 (today)."
   ]
  },
  {
   "cell_type": "code",
   "execution_count": 6,
   "metadata": {},
   "outputs": [],
   "source": [
    "# SOME DEFINITIONS FOR OUR PROBLEM\n",
    "\n",
    "d_gc = 8*kpc\n",
    "l_max = 1e2*kpc\n",
    "z = 0"
   ]
  },
  {
   "cell_type": "code",
   "execution_count": 7,
   "metadata": {},
   "outputs": [],
   "source": [
    "# DEFINITION OF RHO AND RHO^2 FUNCTIONS\n",
    "\n",
    "def rho(l, z, subt_angle, theta):\n",
    "#     ANGLES IN RADIANS\n",
    "    r    = np.sqrt(-2*l*d_gc*np.cos(subt_angle)*np.cos(theta) + d_gc**2 + l**2)\n",
    "    return rho_s(z)/((r/r_s(z))*(r/r_s(z)+1)**2)\n",
    "\n",
    "\n",
    "rho_2 = lambda l, z, subt_angle, theta: rho(l, z, subt_angle, theta)**2"
   ]
  },
  {
   "cell_type": "code",
   "execution_count": 8,
   "metadata": {},
   "outputs": [
    {
     "data": {
      "image/png": "[encoded data removed]",
      "text/plain": [
       "<Figure size 1008x720 with 1 Axes>"
      ]
     },
     "metadata": {
      "needs_background": "light"
     },
     "output_type": "display_data"
    }
   ],
   "source": [
    "# DEFINITIONS\n",
    "theta = 0\n",
    "subt_angle_0 = np.pi/2\n",
    "n_points_angle = 100\n",
    "subt_angle = np.linspace(-subt_angle_0, subt_angle_0, n_points_angle)\n",
    "\n",
    "\n",
    "# INTEGRAL\n",
    "dJdΩ_int = np.vectorize(lambda z, subt_angle, theta: scipy.integrate.quad(rho_2, 0, l_max, args=(z, subt_angle, theta))[0])\n",
    "\n",
    "\n",
    "# PLOT\n",
    "fig, ax = plt.subplots(1, 1, figsize=(14,10))\n",
    "ax.plot(subt_angle, dJdΩ_int(z, subt_angle, theta), lw=2)\n",
    "ax.set_xlabel(r'$\\psi$ (rad)', fontsize=20)\n",
    "ax.set_ylabel(r'$dJ/d\\Omega$', fontsize=20)\n",
    "ax.tick_params(axis='x', labelsize=14)\n",
    "ax.tick_params(axis='y', labelsize=14)\n",
    "ax.set_title(r'$dJ/d\\Omega$ as a function of the subtended angle $\\psi$', fontsize=26)\n",
    "# ax.set_xlim(-0.5, 0.5)\n",
    "plt.show()"
   ]
  },
  {
   "cell_type": "markdown",
   "metadata": {},
   "source": [
    "## 3. What is J around the Galactic center within 0.5 degree?\n",
    "\n",
    "Use the Riemann sum as a technique to integrate to find the value for J. To do this, make a grid and calculate J for each segment of the grid and then take the average of all the values. "
   ]
  },
  {
   "cell_type": "code",
   "execution_count": 9,
   "metadata": {},
   "outputs": [],
   "source": [
    "# RIEMANN INTEGRAL --> FASTER THAN scipy.integrate.quad\n",
    "def dJdΩ_riemann(subt_angle, theta):\n",
    "    z = 0\n",
    "    n_values = 1000\n",
    "    \n",
    "    l_values = np.linspace(0, l_max, n_values)\n",
    "    dJdΩ_func = (rho_2(l_values[1:], z, subt_angle, theta) + rho_2(l_values[:-1], z, subt_angle, theta))*(l_values[1:]-l_values[:-1])/2\n",
    "    return np.sum(dJdΩ_func)"
   ]
  },
  {
   "cell_type": "code",
   "execution_count": 10,
   "metadata": {},
   "outputs": [
    {
     "name": "stdout",
     "output_type": "stream",
     "text": [
      "Angular cell size:  36.0 x 36.0 arcseconds squared\n",
      "Calculated J factor:  3.3734e+24\n"
     ]
    }
   ],
   "source": [
    "# GRID DEFINITION\n",
    "n_grid = 100\n",
    "ang_max_deg = 0.5\n",
    "ang_cell_size = ang_max_deg*2/100*3600\n",
    "print('Angular cell size:  {0} x {0} arcseconds squared'.format(ang_cell_size, ang_cell_size))\n",
    "\n",
    "ang_max = ang_max_deg * (2*np.pi/360)\n",
    "xang_grid = np.linspace(-ang_max, ang_max, n_grid)\n",
    "yang_grid = np.linspace(-ang_max, ang_max, n_grid)\n",
    "\n",
    "\n",
    "# J FACTOR CALCULATION\n",
    "J_arr = np.array([])\n",
    "for theta in xang_grid:\n",
    "    for phi in yang_grid:\n",
    "        if (np.sin(theta)**2 + np.sin(phi)**2 <= np.sin(ang_max)**2):\n",
    "            J_arr = np.append(J_arr, dJdΩ_riemann(phi, theta))\n",
    "            \n",
    "J_factor = np.mean(J_arr)\n",
    "print('Calculated J factor:  {0:.4e}'.format(J_factor))"
   ]
  },
  {
   "cell_type": "code",
   "execution_count": null,
   "metadata": {},
   "outputs": [],
   "source": []
  }
 ],
 "metadata": {
  "kernelspec": {
   "display_name": "Python 3",
   "language": "python",
   "name": "python3"
  },
  "language_info": {
   "codemirror_mode": {
    "name": "ipython",
    "version": 3
   },
   "file_extension": ".py",
   "mimetype": "text/x-python",
   "name": "python",
   "nbconvert_exporter": "python",
   "pygments_lexer": "ipython3",
   "version": "3.7.0"
  }
 },
 "nbformat": 4,
 "nbformat_minor": 2
}
