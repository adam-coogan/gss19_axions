{
 "cells": [
  {
   "cell_type": "markdown",
   "metadata": {},
   "source": [
    "# Week 2 GRAPPA Seminar Assignment"
   ]
  },
  {
   "cell_type": "code",
   "execution_count": 1,
   "metadata": {},
   "outputs": [],
   "source": [
    "import numpy as np\n",
    "import scipy.integrate\n",
    "import matplotlib.pyplot as plt\n",
    "import time"
   ]
  },
  {
   "cell_type": "markdown",
   "metadata": {},
   "source": [
    "Create a cell that converts all the units into natural units."
   ]
  },
  {
   "cell_type": "code",
   "execution_count": 2,
   "metadata": {},
   "outputs": [],
   "source": [
    "# length\n",
    "cm = 1\n",
    "m = 1e2 * cm\n",
    "km = 1e3 * m\n",
    "pc = 3.1e18 * cm\n",
    "Mpc = 1e6 * pc\n",
    "kpc = 1e3 * pc\n",
    "\n",
    "# time\n",
    "s = 1\n",
    "\n",
    "# mass/energy\n",
    "GeV = 1\n",
    "eV = 1e-9 * GeV\n",
    "kg = 5.61e26 * GeV\n",
    "M_solar = 2e30 * kg"
   ]
  },
  {
   "cell_type": "markdown",
   "metadata": {},
   "source": [
    "## 1. What are the estimates of r$_{s}$ and $\\rho_{s}$ for the Milky-Way Halo?"
   ]
  },
  {
   "cell_type": "markdown",
   "metadata": {},
   "source": [
    "The Milky-Way halo has a mass of around 10$^{12}$ solar masses."
   ]
  },
  {
   "cell_type": "code",
   "execution_count": 3,
   "metadata": {},
   "outputs": [],
   "source": [
    "M = 1e12*M_solar\n",
    "a_0 = 1\n",
    "h = 0.7\n",
    "H_0 = h * 100 * km * s**(-1) * Mpc**(-1)\n",
    "Omega_m0 = 0.32\n",
    "Omega_Lambda = 0.68\n",
    "c_vir = 10"
   ]
  },
  {
   "cell_type": "markdown",
   "metadata": {},
   "source": [
    "Define functions to calculate $\\Omega_{\\mathrm{m}}$, the Hubble constant H, $\\Delta_{\\mathrm{vir}}$, $\\rho_{\\mathrm{critical}}$, and r$_{\\mathrm{vir}}$ in order to obtain values for r$_{s}$ and $\\rho_{s}$."
   ]
  },
  {
   "cell_type": "code",
   "execution_count": 4,
   "metadata": {},
   "outputs": [],
   "source": [
    "def Omega_m(z):\n",
    "    return Omega_m0*(1+z)**3 / (Omega_m0*(1+z)**3 + Omega_Lambda)\n",
    "\n",
    "def H(z):\n",
    "    return np.sqrt(H_0**2 * (Omega_m(z) + Omega_Lambda))\n",
    "\n",
    "def delta_vir(z):\n",
    "    return 18*np.pi**2 + 82*(Omega_m(z) - 1) - 39*(Omega_m(z) - 1)**2\n",
    "\n",
    "def rho_c(z):\n",
    "    return 2.775e11*h**2*M_solar/Mpc**3\n",
    "\n",
    "def r_vir(z):\n",
    "    return (3*M)**(1/3) / (4*np.pi*delta_vir(z)*rho_c(z))**(1/3)\n",
    "\n",
    "def r_s(z):\n",
    "    return r_vir(z) / c_vir\n",
    "\n",
    "def rho_s(z):\n",
    "    denominator = np.log(1 + c_vir) - (c_vir/(1 + c_vir))\n",
    "    return M / (denominator*4*np.pi*r_s(z)**3)"
   ]
  },
  {
   "cell_type": "code",
   "execution_count": 5,
   "metadata": {},
   "outputs": [
    {
     "name": "stdout",
     "output_type": "stream",
     "text": [
      "25.664669324262622 0.1190839575972599\n"
     ]
    }
   ],
   "source": [
    "print(r_s(0)/kpc, rho_s(0))"
   ]
  },
  {
   "cell_type": "markdown",
   "metadata": {},
   "source": [
    "## 2. How does $dJ/dΩ$ look like as a function of angle subtending from the Galactic center $\\psi$?"
   ]
  },
  {
   "cell_type": "code",
   "execution_count": 6,
   "metadata": {},
   "outputs": [],
   "source": [
    "r_s0 = 20*kpc\n",
    "rho_s0 = 0.3\n",
    "\n",
    "d_gc = 8*kpc\n",
    "\n",
    "l_max = 1e2*kpc\n",
    "z = 0"
   ]
  },
  {
   "cell_type": "code",
   "execution_count": 7,
   "metadata": {},
   "outputs": [],
   "source": [
    "def rho(l, z, subt_angle, theta):\n",
    "#     ANGLES IN RADIANS\n",
    "    \n",
    "    r    = np.sqrt(-2*l*d_gc*np.cos(subt_angle)*np.cos(theta) + d_gc**2 + l**2)\n",
    "\n",
    "#     return rho_s(z)/((r/r_s(z))*(r/r_s(z)+1)**2)\n",
    "    return rho_s0/((r/r_s0)*(r/r_s0+1)**2)"
   ]
  },
  {
   "cell_type": "code",
   "execution_count": 8,
   "metadata": {},
   "outputs": [],
   "source": [
    "rho_2 = lambda l, z, subt_angle, theta: rho(l, z, subt_angle, theta)**2"
   ]
  },
  {
   "cell_type": "code",
   "execution_count": 9,
   "metadata": {},
   "outputs": [
    {
     "name": "stdout",
     "output_type": "stream",
     "text": [
      "1.1184683923790519e+24\n"
     ]
    }
   ],
   "source": [
    "def dJdΩ_riemann(subt_angle,theta):\n",
    "    z = 0\n",
    "    n_values = 1000\n",
    "    \n",
    "    l_values = np.linspace(0, l_max, n_values)\n",
    "    dJdΩ_func = rho_2((l_values[1:]+l_values[:-1]),z,subt_angle,theta)*(l_values[1:]-l_values[:-1])/2\n",
    "    return np.sum(dJdΩ_func)\n",
    "\n",
    "\n",
    "n_grid = 100\n",
    "ang_max_deg = 0.5\n",
    "\n",
    "ang_max = ang_max_deg * (2*np.pi/360)\n",
    "xang_grid = np.linspace(-ang_max, ang_max, n_grid)\n",
    "yang_grid = np.linspace(-ang_max, ang_max, n_grid)\n",
    "\n",
    "\n",
    "J_arr = np.array([])\n",
    "for theta in xang_grid:\n",
    "    for phi in yang_grid:\n",
    "        if (np.sin(theta)**2 + np.sin(phi)**2 <= np.sin(ang_max)**2):\n",
    "            J_arr = np.append(J_arr, dJdΩ_riemann(phi, theta))\n",
    "            \n",
    "J_factor = np.mean(J_arr)\n",
    "print(J_factor)"
   ]
  },
  {
   "cell_type": "code",
   "execution_count": null,
   "metadata": {},
   "outputs": [],
   "source": []
  }
 ],
 "metadata": {
  "kernelspec": {
   "display_name": "Python 3",
   "language": "python",
   "name": "python3"
  },
  "language_info": {
   "codemirror_mode": {
    "name": "ipython",
    "version": 3
   },
   "file_extension": ".py",
   "mimetype": "text/x-python",
   "name": "python",
   "nbconvert_exporter": "python",
   "pygments_lexer": "ipython3",
   "version": "3.7.0"
  }
 },
 "nbformat": 4,
 "nbformat_minor": 2
}
