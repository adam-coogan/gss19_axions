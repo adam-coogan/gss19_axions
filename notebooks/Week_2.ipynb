{
 "cells": [
  {
   "cell_type": "markdown",
   "metadata": {},
   "source": [
    "# Week 2 GRAPPA Seminar Assignment"
   ]
  },
  {
   "cell_type": "code",
   "execution_count": 1,
   "metadata": {},
   "outputs": [],
   "source": [
    "import numpy as np\n",
    "import matplotlib.pyplot as plt"
   ]
  },
  {
   "cell_type": "markdown",
   "metadata": {},
   "source": [
    "Create a cell that converts all the units into natural units."
   ]
  },
  {
   "cell_type": "code",
   "execution_count": 16,
   "metadata": {},
   "outputs": [],
   "source": [
    "c = 1\n",
    "cm = 1\n",
    "s = 1\n",
    "m = 1e2 * cm\n",
    "km = 1e3 * m\n",
    "GeV = 1\n",
    "eV = 1e-9 * GeV\n",
    "pc = 3.1e18 * cm\n",
    "Mpc = 1e6 * pc\n",
    "kg = 5.611 * 1e35 * eV/c**2\n",
    "M_solar = 2e30 * kg\n",
    "G = 6.674 * 1e-11 * m**3 * kg**(-1) * s**(-2)"
   ]
  },
  {
   "cell_type": "markdown",
   "metadata": {},
   "source": [
    "## 1. What are the estimates of r$_{s}$ and $\\rho_{s}$ for the Milky-Way Halo?"
   ]
  },
  {
   "cell_type": "markdown",
   "metadata": {},
   "source": [
    "The Milky-Way halo has a mass of around 10$^{12}$ solar masses."
   ]
  },
  {
   "cell_type": "code",
   "execution_count": 18,
   "metadata": {},
   "outputs": [],
   "source": [
    "M = 1e12*M_solar\n",
    "a_0 = 1\n",
    "H_0 = 70 * km * s**(-1) * Mpc**(-1)\n",
    "Omega_m0 = 0.32\n",
    "Omega_Lambda = 0.68\n",
    "c_vir = 10"
   ]
  },
  {
   "cell_type": "code",
   "execution_count": 29,
   "metadata": {},
   "outputs": [],
   "source": [
    "def Omega_m(z):\n",
    "    return Omega_m0*(1+z)**3 / (Omega_m0*(1+z)**3 + Omega_Lambda)\n",
    "\n",
    "def H(z):\n",
    "    return np.sqrt(H_0**2 * Omega_m(z))\n",
    "\n",
    "def delta_vir(z):\n",
    "    return 18*np.pi**2 + 82*(Omega_m(z) - 1) - 39*(Omega_m(z) - 1)**2\n",
    "\n",
    "def rho_c(z):\n",
    "    return 3*H(z)**2 / 8*np.pi*G\n",
    "\n",
    "def r_vir(z):\n",
    "    return (3*M)**(1/3) / (4*np.pi*delta_vir(z)*rho_c(z))**(1/3)\n",
    "\n",
    "def r_s(z):\n",
    "    return r_vir(z) / c_vir\n",
    "\n",
    "def rho_s(z):\n",
    "    denominator = np.log(1 + c_vir) - (c_vir/(1 + c_vir))\n",
    "    return M / (denominator*4*np.pi*r_s(z)**3)"
   ]
  },
  {
   "cell_type": "code",
   "execution_count": 33,
   "metadata": {},
   "outputs": [
    {
     "name": "stdout",
     "output_type": "stream",
     "text": [
      "158.3876235626555\n"
     ]
    }
   ],
   "source": [
    "print (rho_s(0)*(GeV/eV)*(pc/cm)**3)"
   ]
  },
  {
   "cell_type": "code",
   "execution_count": null,
   "metadata": {},
   "outputs": [],
   "source": []
  }
 ],
 "metadata": {
  "kernelspec": {
   "display_name": "Python 3",
   "language": "python",
   "name": "python3"
  },
  "language_info": {
   "codemirror_mode": {
    "name": "ipython",
    "version": 3
   },
   "file_extension": ".py",
   "mimetype": "text/x-python",
   "name": "python",
   "nbconvert_exporter": "python",
   "pygments_lexer": "ipython3",
   "version": "3.6.4"
  }
 },
 "nbformat": 4,
 "nbformat_minor": 2
}
