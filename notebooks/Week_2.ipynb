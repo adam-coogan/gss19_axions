{
 "cells": [
  {
   "cell_type": "markdown",
   "metadata": {},
   "source": [
    "# Week 2 GRAPPA Seminar Assignment"
   ]
  },
  {
   "cell_type": "code",
   "execution_count": 1,
   "metadata": {},
   "outputs": [],
   "source": [
    "import numpy as np\n",
    "import scipy.integrate\n",
    "import matplotlib.pyplot as plt"
   ]
  },
  {
   "cell_type": "markdown",
   "metadata": {},
   "source": [
    "Create a cell that converts all the units into natural units."
   ]
  },
  {
   "cell_type": "code",
   "execution_count": 2,
   "metadata": {},
   "outputs": [],
   "source": [
    "# length\n",
    "cm = 1\n",
    "m = 1e2 * cm\n",
    "km = 1e3 * m\n",
    "pc = 3.1e18 * cm\n",
    "Mpc = 1e6 * pc\n",
    "kpc = 1e3 * pc\n",
    "\n",
    "# time\n",
    "s = 1\n",
    "\n",
    "# speed\n",
    "c = 3e10 * cm/s\n",
    "\n",
    "# mass/energy\n",
    "GeV = 1\n",
    "eV = 1e-9 * GeV\n",
    "kg = 5.61e26 * GeV\n",
    "M_solar = 2e30 * kg"
   ]
  },
  {
   "cell_type": "markdown",
   "metadata": {},
   "source": [
    "## 1. What are the estimates of r$_{s}$ and $\\rho_{s}$ for the Milky-Way Halo?"
   ]
  },
  {
   "cell_type": "markdown",
   "metadata": {},
   "source": [
    "The Milky-Way halo has a mass of around 10$^{12}$ solar masses."
   ]
  },
  {
   "cell_type": "code",
   "execution_count": 3,
   "metadata": {},
   "outputs": [],
   "source": [
    "M = 1e12*M_solar\n",
    "a_0 = 1\n",
    "h = 0.7\n",
    "H_0 = h * 100 * km * s**(-1) * Mpc**(-1)\n",
    "Omega_m0 = 0.32\n",
    "Omega_Lambda = 0.68\n",
    "c_vir = 10"
   ]
  },
  {
   "cell_type": "markdown",
   "metadata": {},
   "source": [
    "Define functions to calculate $\\Omega_{\\mathrm{m}}$, the Hubble constant H, $\\Delta_{\\mathrm{vir}}$, $\\rho_{\\mathrm{critical}}$, and r$_{\\mathrm{vir}}$ in order to obtain values for r$_{s}$ and $\\rho_{s}$."
   ]
  },
  {
   "cell_type": "code",
   "execution_count": 4,
   "metadata": {},
   "outputs": [],
   "source": [
    "def Omega_m(z):\n",
    "    return Omega_m0*(1+z)**3 / (Omega_m0*(1+z)**3 + Omega_Lambda)\n",
    "\n",
    "def H(z):\n",
    "    return np.sqrt(H_0**2 * (Omega_m(z) + Omega_Lambda))\n",
    "\n",
    "def delta_vir(z):\n",
    "    return 18*np.pi**2 + 82*(Omega_m(z) - 1) - 39*(Omega_m(z) - 1)**2\n",
    "\n",
    "def rho_c(z):\n",
    "    return 2.775e11*h**2*M_solar/Mpc**3\n",
    "\n",
    "def r_vir(z):\n",
    "    return (3*M)**(1/3) / (4*np.pi*delta_vir(z)*rho_c(z))**(1/3)\n",
    "\n",
    "def r_s(z):\n",
    "    return r_vir(z) / c_vir\n",
    "\n",
    "def rho_s(z):\n",
    "    denominator = np.log(1 + c_vir) - (c_vir/(1 + c_vir))\n",
    "    return M / (denominator*4*np.pi*r_s(z)**3)"
   ]
  },
  {
   "cell_type": "markdown",
   "metadata": {},
   "source": [
    "## 2. How does $dJ/dΩ$ look like as a function of angle subtending from the Galactic center $\\psi$?"
   ]
  },
  {
   "cell_type": "code",
   "execution_count": 11,
   "metadata": {},
   "outputs": [],
   "source": [
    "def rho(l,z,subt_angle,theta):\n",
    "\n",
    "    # NFW density profile: spatial mass distribution\n",
    "    # of DM fitted to DM halos from N-body simulations\n",
    "\n",
    "    d_gc = 8 * kpc                                                               #distance galactic centre (GC)\n",
    "    r    = np.sqrt(-2*l*d_gc*np.cos(subt_angle)*np.cos(theta) + d_gc**2 + l**2)  #distance observed point from GC\n",
    "\n",
    "    return rho_s(z)/((r/r_s(z))*(r/r_s(z)+1)**2)"
   ]
  },
  {
   "cell_type": "code",
   "execution_count": 13,
   "metadata": {},
   "outputs": [
    {
     "data": {
      "text/plain": [
       "Text(0, 0.5, 'dJ/d$\\\\Omega$')"
      ]
     },
     "execution_count": 13,
     "metadata": {},
     "output_type": "execute_result"
    },
    {
     "data": {
      "image/png": "[encoded data removed]",
      "text/plain": [
       "<Figure size 432x288 with 1 Axes>"
      ]
     },
     "metadata": {
      "needs_background": "light"
     },
     "output_type": "display_data"
    }
   ],
   "source": [
    "l_max = 1e2 * kpc                                                                #line of sight integration distance \n",
    "z     = 0                                                                        #redshift\n",
    "theta = 0\n",
    "subt_angle_0 = np.pi/2\n",
    "subt_angle = np.linspace(-subt_angle_0, subt_angle_0, 100)                       #subtended angle array\n",
    "rho_2 = np.vectorize(lambda l,z,subt_angle,theta: rho(l,z,subt_angle,theta)**2)  #density profile squared\n",
    "\n",
    "\n",
    "#integration of dJdΩ over the line of sight\n",
    "dJdΩ_func = np.vectorize(lambda z,subt_angle,theta: scipy.integrate.quad(rho_2, 0, l_max, args=(z,subt_angle,theta))[0])\n",
    "\n",
    "plt.plot(subt_angle, dJdΩ_func(z,subt_angle,theta))\n",
    "plt.title(r\"dJ/d$\\Omega$ as a function of the Subtended angle $\\psi$\")\n",
    "plt.xlabel(r\"$\\psi$ (rad)\")\n",
    "plt.ylabel(r\"dJ/d$\\Omega$\")"
   ]
  },
  {
   "cell_type": "code",
   "execution_count": null,
   "metadata": {},
   "outputs": [],
   "source": [
    "z     = 0   \n",
    "\n",
    "l_min = \n",
    "l_max = \n",
    "\n",
    "theta_min = \n",
    "theta_max = \n",
    "\n",
    "subt_angle_min = \n",
    "subt_angle_max = \n",
    "\n",
    "rho_2 = np.vectorize(lambda l,z,subt_angle,theta: rho(l,z,subt_angle,theta)**2)  #density profile squared\n",
    "\n",
    "\n",
    "#integration of dJdΩ over the line of sight and 0.5 degrees from the GC\n",
    "dJdΩ_func = np.vectorize(lambda z,subt_angle,theta: scipy.integrate.tplquad(rho_2, 0, l_max, args=(z))[0])"
   ]
  },
  {
   "cell_type": "code",
   "execution_count": 7,
   "metadata": {},
   "outputs": [
    {
     "name": "stderr",
     "output_type": "stream",
     "text": [
      "/anaconda3/lib/python3.6/site-packages/ipykernel_launcher.py:9: RuntimeWarning: divide by zero encountered in true_divide\n",
      "  if __name__ == '__main__':\n"
     ]
    },
    {
     "data": {
      "text/plain": [
       "[<matplotlib.lines.Line2D at 0x15177ca780>]"
      ]
     },
     "execution_count": 7,
     "metadata": {},
     "output_type": "execute_result"
    },
    {
     "data": {
      "image/png": "[encoded data removed]",
      "text/plain": [
       "<matplotlib.figure.Figure at 0x151445cf98>"
      ]
     },
     "metadata": {},
     "output_type": "display_data"
    }
   ],
   "source": [
    "#tests\n",
    "\n",
    "rho_2 = np.vectorize(lambda l,z,subt_angle: rho(l,z,subt_angle)**2)\n",
    "\n",
    "y = np.vectorize(lambda x: x**2)\n",
    "y(((2, 4, 5), (145, 27, 6)))\n",
    "\n",
    "a = np.array((1, 2, 3, 4, 5))\n",
    "b = np.array((1, 2, 3, 4, 5))\n",
    "np.broadcast_arrays(a[None, :],b[:, None])\n",
    "\n",
    "l = np.linspace(0, 10*kpc, 101)\n",
    "angle = np.linspace(0, np.pi, 101)\n",
    "\n",
    "plt.plot(angle,(rho(l[None, :-1], 0, angle[:, None]) * (l[1:]-l[:-1])[None, :]).sum(axis=1))"
   ]
  }
 ],
 "metadata": {
  "kernelspec": {
   "display_name": "Python 3",
   "language": "python",
   "name": "python3"
  },
  "language_info": {
   "codemirror_mode": {
    "name": "ipython",
    "version": 3
   },
   "file_extension": ".py",
   "mimetype": "text/x-python",
   "name": "python",
   "nbconvert_exporter": "python",
   "pygments_lexer": "ipython3",
   "version": "3.7.3"
  }
 },
 "nbformat": 4,
 "nbformat_minor": 2
}
